{
 "cells": [
  {
   "cell_type": "markdown",
   "id": "ffebc66f",
   "metadata": {},
   "source": [
    "## Indy7 robot Control Basics\n",
    "Testing Control interface of mujoco, indy7 dual arm"
   ]
  },
  {
   "cell_type": "markdown",
   "id": "611449fc",
   "metadata": {},
   "source": [
    "current problem: box penetration</br>\n",
    "- box not colliding with table & floor\n",
    "- danggling"
   ]
  },
  {
   "cell_type": "code",
   "execution_count": 4,
   "id": "d8563917",
   "metadata": {},
   "outputs": [],
   "source": [
    "import mujoco\n",
    "import mujoco_viewer\n",
    "\n",
    "import numpy as np\n",
    "import time"
   ]
  },
  {
   "cell_type": "code",
   "execution_count": 5,
   "id": "f5054e1e",
   "metadata": {},
   "outputs": [],
   "source": [
    "# make mujoco model & data\n",
    "model = mujoco.MjModel.from_xml_path('mjcf/indy7/scene.xml')\n",
    "data = mujoco.MjData(model)"
   ]
  },
  {
   "cell_type": "markdown",
   "id": "14be5615",
   "metadata": {},
   "source": [
    "### VIEWER EXAMPLE\n",
    "- launch viewer & step mujoco simulator"
   ]
  },
  {
   "cell_type": "code",
   "execution_count": 6,
   "id": "5c328a22",
   "metadata": {},
   "outputs": [],
   "source": [
    "# set viewer & reset mujoco data\n",
    "viewer = mujoco_viewer.MujocoViewer(model, data)\n",
    "mujoco.mj_resetData(model, data)\n",
    "\n",
    "# viewer loop, no control\n",
    "while True:\n",
    "    if viewer.is_alive:\n",
    "        mujoco.mj_step(model, data)\n",
    "        viewer.render()\n",
    "    else:\n",
    "        break\n",
    "\n",
    "# close\n",
    "viewer.close()"
   ]
  },
  {
   "cell_type": "markdown",
   "id": "a617e2d4",
   "metadata": {},
   "source": [
    "### RECEIVE VALUES\n",
    "- receive following values\n",
    "    - controller names, type\n",
    "    - joint names, position, velocity\n",
    "    - body names, position, velocity"
   ]
  },
  {
   "cell_type": "code",
   "execution_count": null,
   "id": "3d6fb1b3",
   "metadata": {},
   "outputs": [
    {
     "data": {
      "text/plain": [
       "'\\nnumber of qpos (qvel, qacc): model.nq\\nnumber of geoms (meshes, bodies): model.ngeom\\nlist of masses: model.body_mess\\nnumber of joint: model.njnt\\n\\nname of geom (index specified): mujoco.mj_id2name(model,mujoco.mjtObj.mjOBJ_GEOM,index)\\nname of joints: same\\njoint type: model.jnt_type (access with index)\\njoint range: model.jnt_range (matrix of 2d)\\n\\nnumber of control: model.nu\\nnames, ranges same\\ngears: model.actuator_gear[:,0]\\n\\ncamera\\n- object: mujoco.MjvCamera()\\n- cam id: model.cam(camera name)\\n- viewport: mujoco.MjrRect(size)\\n'"
      ]
     },
     "execution_count": 7,
     "metadata": {},
     "output_type": "execute_result"
    }
   ],
   "source": [
    "\"\"\"\n",
    "Number\n",
    "number of qpos: model.nq\n",
    "number of qvel, qacc: model.nv\n",
    "number of geoms (meshes, bodies): model.ngeom\n",
    "list of masses: model.body_mess\n",
    "number of joint: model.njnt\n",
    "\n",
    "Names\n",
    "name of geom (index specified): mujoco.mj_id2name(model,mujoco.mjtObj.mjOBJ_GEOM,index)\n",
    "name of joints: same\n",
    "joint type: model.jnt_type (access with index)\n",
    "joint range: model.jnt_range (matrix of 2d)\n",
    "\n",
    "Control\n",
    "number of control: model.nu\n",
    "names, ranges same\n",
    "gears: model.actuator_gear[:,0]\n",
    "\n",
    "camera\n",
    "- object: mujoco.MjvCamera()\n",
    "- cam id: model.cam(camera name)\n",
    "- viewport: mujoco.MjrRect(size)\n",
    "\n",
    "geom: mujoco.mjtObj.mjOBJ_GEOM\n",
    "mesh: mujoco.mjtObj.mjOBJ_MESH\n",
    "body: mujoco.mjtObj.mjOBJ_BODY\n",
    "dof: mujoco.mjtObj.mjOBJ_DOF\n",
    "joint: mujoco.mjtObj.mjOBJ_JOINT\n",
    "    - joint type: mujoco.mjtJoint.mjJNT_FREE, FIXED, HINGE, REVOLUTE\n",
    "ctrl: mujoco.mjtObj.mjOBJ_ACTUAOR\n",
    "\"\"\""
   ]
  },
  {
   "cell_type": "code",
   "execution_count": 9,
   "id": "873d4568",
   "metadata": {},
   "outputs": [
    {
     "name": "stdout",
     "output_type": "stream",
     "text": [
      "13\n",
      "['joint0_r', 'joint1_r', 'joint2_r', 'joint3_r', 'joint4_r', 'joint5_r', 'joint0_l', 'joint1_l', 'joint2_l', 'joint3_l', 'joint4_l', 'joint5_l', None]\n"
     ]
    }
   ],
   "source": [
    "# print list of joints\n",
    "joint_number = model.njnt\n",
    "joint_name_list = [mujoco.mj_id2name(model,mujoco.mjtObj.mjOBJ_JOINT,jnum)\n",
    "                    for jnum in range(joint_number)]\n",
    "\n",
    "print(joint_number)\n",
    "print(joint_name_list)"
   ]
  },
  {
   "cell_type": "code",
   "execution_count": 10,
   "id": "da56848d",
   "metadata": {},
   "outputs": [
    {
     "name": "stdout",
     "output_type": "stream",
     "text": [
      "0\n",
      "[]\n"
     ]
    }
   ],
   "source": [
    "# print list of joints\n",
    "ctrl_number = model.nu\n",
    "ctrl_list = [mujoco.mj_id2name(model,mujoco.mjtObj.mjOBJ_ACTUATOR,cnum)\n",
    "                    for cnum in range(ctrl_number)]\n",
    "\n",
    "print(ctrl_number)\n",
    "print(ctrl_list)"
   ]
  },
  {
   "cell_type": "code",
   "execution_count": 15,
   "id": "fee8d4e8",
   "metadata": {},
   "outputs": [
    {
     "name": "stdout",
     "output_type": "stream",
     "text": [
      "20\n",
      "19\n",
      "['world', 'indy7_right', 'base_0_r', 'link1_r', 'link2_r', 'link3_r', 'link4_r', 'link5_r', 'link6_r', 'indy7_left', 'base_0_l', 'link1_l', 'link2_l', 'link3_l', 'link4_l', 'link5_l', 'link6_l', 'table_low', 'table_high', 'target_box']\n"
     ]
    }
   ],
   "source": [
    "# receive body name, index, return position\n",
    "\n",
    "# 1. print body names\n",
    "body_name_list = [mujoco.mj_id2name(model,mujoco.mjtObj.mjOBJ_BODY,bnum)\n",
    "                    for bnum in range(model.nbody)]\n",
    "\n",
    "print(model.nbody)\n",
    "print(model.nq)\n",
    "print(body_name_list)"
   ]
  }
 ],
 "metadata": {
  "kernelspec": {
   "display_name": "Python 3",
   "language": "python",
   "name": "python3"
  },
  "language_info": {
   "codemirror_mode": {
    "name": "ipython",
    "version": 3
   },
   "file_extension": ".py",
   "mimetype": "text/x-python",
   "name": "python",
   "nbconvert_exporter": "python",
   "pygments_lexer": "ipython3",
   "version": "3.10.12"
  }
 },
 "nbformat": 4,
 "nbformat_minor": 5
}
